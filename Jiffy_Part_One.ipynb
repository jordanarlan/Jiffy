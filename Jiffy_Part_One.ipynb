{
 "cells": [
  {
   "cell_type": "code",
   "execution_count": 4,
   "metadata": {},
   "outputs": [],
   "source": [
    "import pandas as pd\n",
    "import sqlite3\n",
    "\n",
    "# File paths - replace with your file paths\n",
    "orders_csv = 'orders.csv'\n",
    "line_items_csv = 'line_items.csv'\n",
    "customers_csv = 'customers.csv'\n",
    "\n",
    "# Create a connection to a new SQLite database\n",
    "conn = sqlite3.connect('jiffyshirts.db')\n",
    "\n",
    "# Import CSV files into the database\n",
    "for file, table_name in [(orders_csv, 'orders'), (line_items_csv, 'line_items'), (customers_csv, 'customers')]:\n",
    "    df = pd.read_csv(file)\n",
    "    df.to_sql(table_name, conn, if_exists='replace', index=False)\n",
    "\n",
    "# Close the connection\n",
    "conn.close()\n"
   ]
  },
  {
   "cell_type": "code",
   "execution_count": 6,
   "metadata": {},
   "outputs": [
    {
     "data": {
      "text/html": [
       "<div>\n",
       "<style scoped>\n",
       "    .dataframe tbody tr th:only-of-type {\n",
       "        vertical-align: middle;\n",
       "    }\n",
       "\n",
       "    .dataframe tbody tr th {\n",
       "        vertical-align: top;\n",
       "    }\n",
       "\n",
       "    .dataframe thead th {\n",
       "        text-align: right;\n",
       "    }\n",
       "</style>\n",
       "<table border=\"1\" class=\"dataframe\">\n",
       "  <thead>\n",
       "    <tr style=\"text-align: right;\">\n",
       "      <th></th>\n",
       "      <th>name</th>\n",
       "    </tr>\n",
       "  </thead>\n",
       "  <tbody>\n",
       "    <tr>\n",
       "      <th>0</th>\n",
       "      <td>orders</td>\n",
       "    </tr>\n",
       "    <tr>\n",
       "      <th>1</th>\n",
       "      <td>line_items</td>\n",
       "    </tr>\n",
       "    <tr>\n",
       "      <th>2</th>\n",
       "      <td>customers</td>\n",
       "    </tr>\n",
       "  </tbody>\n",
       "</table>\n",
       "</div>"
      ],
      "text/plain": [
       "         name\n",
       "0      orders\n",
       "1  line_items\n",
       "2   customers"
      ]
     },
     "execution_count": 6,
     "metadata": {},
     "output_type": "execute_result"
    }
   ],
   "source": [
    "# Create a SQLite database\n",
    "conn = sqlite3.connect('jiffyshirts.db')\n",
    "\n",
    "# Check if the tables are created successfully\n",
    "tables = pd.read_sql_query(\"SELECT name FROM sqlite_master WHERE type='table';\", conn)\n",
    "tables"
   ]
  },
  {
   "cell_type": "code",
   "execution_count": 29,
   "metadata": {},
   "outputs": [
    {
     "data": {
      "text/html": [
       "<div>\n",
       "<style scoped>\n",
       "    .dataframe tbody tr th:only-of-type {\n",
       "        vertical-align: middle;\n",
       "    }\n",
       "\n",
       "    .dataframe tbody tr th {\n",
       "        vertical-align: top;\n",
       "    }\n",
       "\n",
       "    .dataframe thead th {\n",
       "        text-align: right;\n",
       "    }\n",
       "</style>\n",
       "<table border=\"1\" class=\"dataframe\">\n",
       "  <thead>\n",
       "    <tr style=\"text-align: right;\">\n",
       "      <th></th>\n",
       "      <th>orders_in_2018</th>\n",
       "    </tr>\n",
       "  </thead>\n",
       "  <tbody>\n",
       "    <tr>\n",
       "      <th>0</th>\n",
       "      <td>9228</td>\n",
       "    </tr>\n",
       "  </tbody>\n",
       "</table>\n",
       "</div>"
      ],
      "text/plain": [
       "   orders_in_2018\n",
       "0            9228"
      ]
     },
     "execution_count": 29,
     "metadata": {},
     "output_type": "execute_result"
    }
   ],
   "source": [
    "query_1 = \"\"\"\n",
    "SELECT COUNT(*) AS orders_in_2018\n",
    "FROM orders\n",
    "WHERE strftime('%Y', DATETIME(order_timestamp, '-5 hours')) = '2018'\n",
    "\"\"\"\n",
    "\n",
    "orders_2018 = pd.read_sql_query(query_1, conn)\n",
    "orders_2018"
   ]
  },
  {
   "cell_type": "code",
   "execution_count": 35,
   "metadata": {},
   "outputs": [
    {
     "data": {
      "text/html": [
       "<div>\n",
       "<style scoped>\n",
       "    .dataframe tbody tr th:only-of-type {\n",
       "        vertical-align: middle;\n",
       "    }\n",
       "\n",
       "    .dataframe tbody tr th {\n",
       "        vertical-align: top;\n",
       "    }\n",
       "\n",
       "    .dataframe thead th {\n",
       "        text-align: right;\n",
       "    }\n",
       "</style>\n",
       "<table border=\"1\" class=\"dataframe\">\n",
       "  <thead>\n",
       "    <tr style=\"text-align: right;\">\n",
       "      <th></th>\n",
       "      <th>orders_with_10_units_2018</th>\n",
       "    </tr>\n",
       "  </thead>\n",
       "  <tbody>\n",
       "    <tr>\n",
       "      <th>0</th>\n",
       "      <td>5151</td>\n",
       "    </tr>\n",
       "  </tbody>\n",
       "</table>\n",
       "</div>"
      ],
      "text/plain": [
       "   orders_with_10_units_2018\n",
       "0                       5151"
      ]
     },
     "execution_count": 35,
     "metadata": {},
     "output_type": "execute_result"
    }
   ],
   "source": [
    "# SQL Query 2: How many orders were completed in 2018 containing at least 10 units?\n",
    "\n",
    "query_2 = \"\"\"\n",
    "SELECT COUNT(DISTINCT order_id) AS orders_with_10_units_2018\n",
    "FROM (\n",
    "    SELECT o.order_id, \n",
    "           SUM(li.quantity) AS total_quantity_per_order\n",
    "    FROM orders o\n",
    "    JOIN line_items li ON o.order_id = li.order_id\n",
    "    WHERE strftime('%Y', DATETIME(o.order_timestamp, '-5 hours')) = '2018'\n",
    "    GROUP BY 1\n",
    ") AS subquery\n",
    "WHERE total_quantity_per_order >= 10\n",
    "\"\"\"\n",
    "\n",
    "orders_with_10_units_2018 = pd.read_sql_query(query_2, conn)\n",
    "orders_with_10_units_2018"
   ]
  },
  {
   "cell_type": "code",
   "execution_count": 13,
   "metadata": {},
   "outputs": [
    {
     "data": {
      "text/html": [
       "<div>\n",
       "<style scoped>\n",
       "    .dataframe tbody tr th:only-of-type {\n",
       "        vertical-align: middle;\n",
       "    }\n",
       "\n",
       "    .dataframe tbody tr th {\n",
       "        vertical-align: top;\n",
       "    }\n",
       "\n",
       "    .dataframe thead th {\n",
       "        text-align: right;\n",
       "    }\n",
       "</style>\n",
       "<table border=\"1\" class=\"dataframe\">\n",
       "  <thead>\n",
       "    <tr style=\"text-align: right;\">\n",
       "      <th></th>\n",
       "      <th>customers_medium_sweater_discount</th>\n",
       "    </tr>\n",
       "  </thead>\n",
       "  <tbody>\n",
       "    <tr>\n",
       "      <th>0</th>\n",
       "      <td>753</td>\n",
       "    </tr>\n",
       "  </tbody>\n",
       "</table>\n",
       "</div>"
      ],
      "text/plain": [
       "   customers_medium_sweater_discount\n",
       "0                                753"
      ]
     },
     "execution_count": 13,
     "metadata": {},
     "output_type": "execute_result"
    }
   ],
   "source": [
    "# SQL Query 3: How many customers have ever purchased a medium-sized sweater with a discount?\n",
    "\n",
    "query_3 = \"\"\"\n",
    "SELECT COUNT(DISTINCT o.customer_uid) AS customers_medium_sweater_discount\n",
    "FROM orders o\n",
    "JOIN line_items li ON o.order_id = li.order_id\n",
    "WHERE li.size = 'M'\n",
    "AND li.product_category = 'Sweater'\n",
    "AND o.discount > 0\n",
    "\"\"\"\n",
    "\n",
    "customers_medium_sweater_discount = pd.read_sql_query(query_3, conn)\n",
    "customers_medium_sweater_discount"
   ]
  },
  {
   "cell_type": "code",
   "execution_count": 15,
   "metadata": {},
   "outputs": [
    {
     "data": {
      "text/html": [
       "<div>\n",
       "<style scoped>\n",
       "    .dataframe tbody tr th:only-of-type {\n",
       "        vertical-align: middle;\n",
       "    }\n",
       "\n",
       "    .dataframe tbody tr th {\n",
       "        vertical-align: top;\n",
       "    }\n",
       "\n",
       "    .dataframe thead th {\n",
       "        text-align: right;\n",
       "    }\n",
       "</style>\n",
       "<table border=\"1\" class=\"dataframe\">\n",
       "  <thead>\n",
       "    <tr style=\"text-align: right;\">\n",
       "      <th></th>\n",
       "      <th>month</th>\n",
       "      <th>total_profit</th>\n",
       "    </tr>\n",
       "  </thead>\n",
       "  <tbody>\n",
       "    <tr>\n",
       "      <th>0</th>\n",
       "      <td>2020-10</td>\n",
       "      <td>92431.26</td>\n",
       "    </tr>\n",
       "  </tbody>\n",
       "</table>\n",
       "</div>"
      ],
      "text/plain": [
       "     month  total_profit\n",
       "0  2020-10      92431.26"
      ]
     },
     "execution_count": 15,
     "metadata": {},
     "output_type": "execute_result"
    }
   ],
   "source": [
    "# SQL Query 4: What was the profitability of our most profitable month?\n",
    "\n",
    "query_4 = \"\"\"\n",
    "SELECT strftime('%Y-%m', DATETIME(o.order_timestamp, '-5 hours')) AS month,\n",
    "       SUM((li.selling_price - li.supplier_cost) * li.quantity) AS total_profit\n",
    "FROM orders o\n",
    "JOIN line_items li ON o.order_id = li.order_id\n",
    "GROUP BY month\n",
    "ORDER BY total_profit DESC\n",
    "LIMIT 1\n",
    "\"\"\"\n",
    "\n",
    "most_profitable_month = pd.read_sql_query(query_4, conn)\n",
    "most_profitable_month"
   ]
  },
  {
   "cell_type": "code",
   "execution_count": 22,
   "metadata": {},
   "outputs": [
    {
     "data": {
      "text/html": [
       "<div>\n",
       "<style scoped>\n",
       "    .dataframe tbody tr th:only-of-type {\n",
       "        vertical-align: middle;\n",
       "    }\n",
       "\n",
       "    .dataframe tbody tr th {\n",
       "        vertical-align: top;\n",
       "    }\n",
       "\n",
       "    .dataframe thead th {\n",
       "        text-align: right;\n",
       "    }\n",
       "</style>\n",
       "<table border=\"1\" class=\"dataframe\">\n",
       "  <thead>\n",
       "    <tr style=\"text-align: right;\">\n",
       "      <th></th>\n",
       "      <th>is_business</th>\n",
       "      <th>total_orders</th>\n",
       "      <th>returned_orders</th>\n",
       "      <th>return_rate_percent</th>\n",
       "    </tr>\n",
       "  </thead>\n",
       "  <tbody>\n",
       "    <tr>\n",
       "      <th>0</th>\n",
       "      <td>0</td>\n",
       "      <td>18278</td>\n",
       "      <td>900</td>\n",
       "      <td>4.923952</td>\n",
       "    </tr>\n",
       "    <tr>\n",
       "      <th>1</th>\n",
       "      <td>1</td>\n",
       "      <td>28155</td>\n",
       "      <td>1899</td>\n",
       "      <td>6.744806</td>\n",
       "    </tr>\n",
       "  </tbody>\n",
       "</table>\n",
       "</div>"
      ],
      "text/plain": [
       "   is_business  total_orders  returned_orders  return_rate_percent\n",
       "0            0         18278              900             4.923952\n",
       "1            1         28155             1899             6.744806"
      ]
     },
     "execution_count": 22,
     "metadata": {},
     "output_type": "execute_result"
    }
   ],
   "source": [
    "# SQL Query 5: What is the return rate for business vs. non-business customers?\n",
    "\n",
    "query_5 = \"\"\"\n",
    "SELECT c.is_business,\n",
    "       COUNT(*) AS total_orders,\n",
    "       SUM(CASE WHEN o.returned = True THEN 1 ELSE 0 END) AS returned_orders,\n",
    "       (SUM(CASE WHEN o.returned = True THEN 1 ELSE 0 END) * 1.0 / COUNT(*))*100 AS return_rate_percent\n",
    "FROM customers c\n",
    "JOIN orders o ON c.customer_uid = o.customer_uid\n",
    "GROUP BY c.is_business\n",
    "\"\"\"\n",
    "\n",
    "return_rate_business_nonbusiness = pd.read_sql_query(query_5, conn)\n",
    "return_rate_business_nonbusiness"
   ]
  }
 ],
 "metadata": {
  "kernelspec": {
   "display_name": "Python 3",
   "language": "python",
   "name": "python3"
  },
  "language_info": {
   "codemirror_mode": {
    "name": "ipython",
    "version": 3
   },
   "file_extension": ".py",
   "mimetype": "text/x-python",
   "name": "python",
   "nbconvert_exporter": "python",
   "pygments_lexer": "ipython3",
   "version": "3.11.3"
  },
  "orig_nbformat": 4
 },
 "nbformat": 4,
 "nbformat_minor": 2
}
